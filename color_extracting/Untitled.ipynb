{
 "cells": [
  {
   "cell_type": "code",
   "execution_count": 193,
   "id": "sixth-nepal",
   "metadata": {},
   "outputs": [],
   "source": [
    "from jmd_imagescraper.core import * # dont't worry, it's designed to work with import *\n",
    "from pathlib import Path\n",
    "NUM_CLUSTERS = 4\n",
    "import numpy as np\n",
    "import scipy\n",
    "from scipy import cluster\n",
    "from wordfreq import top_n_list\n",
    "from PIL import Image\n",
    "import requests\n",
    "from io import BytesIO\n",
    "import binascii\n",
    "import json\n",
    "from tqdm import tqdm\n",
    "import time\n",
    "import argparse\n",
    "from colorthief import ColorThief\n",
    "import random\n",
    "\n",
    "\n",
    "def duckduckgo_search_urls(keywords, max_results=10, \n",
    "                           img_size: ImgSize=ImgSize.Cached,\n",
    "                           img_type: ImgType=ImgType.Photo,\n",
    "                           img_layout: ImgLayout=ImgLayout.All,\n",
    "                           img_color: ImgColor=ImgColor.All,):\n",
    "    return duckduckgo_scrape_urls(keywords,max_results,img_size,img_type,img_layout,img_color)\n",
    "\n",
    "def median_centroid(ar,NUM_CLUSTERS=4):\n",
    "    codes, dist = cluster.vq.kmeans(ar, NUM_CLUSTERS)\n",
    "    vecs, dist = cluster.vq.vq(ar, codes)         # assign codes\n",
    "    counts, bins = np.histogram(vecs, len(codes))    # count occurrences\n",
    "    # index_max = np.argmax(counts)                    # find most frequent\n",
    "    \n",
    "    second_idx,first_idx = np.argsort(counts)[-2:]\n",
    "    second_color,first_color = codes[second_idx],codes[first_idx]\n",
    "    second_sta,first_sta = rgb_to_saturation(second_color),rgb_to_saturation(first_color)\n",
    "    if second_sta>first_sta:\n",
    "        return second_color\n",
    "    else:\n",
    "        return first_color\n",
    "    \n",
    "def rgb_to_saturation(ar): \n",
    "    # R, G, B values are divided by 255 \n",
    "    # to change the range from 0..255 to 0..1: \n",
    "    r, g, b =ar \n",
    "  \n",
    "    # h, s, v = hue, saturation, value \n",
    "    cmax = max(r, g, b)    # maximum of r, g, b \n",
    "    cmin = min(r, g, b)    # minimum of r, g, b \n",
    "    diff = cmax-cmin       # diff of cmax and cmin. \n",
    "  \n",
    "    # if cmax and cmax are equal then h = 0 \n",
    "    if cmax == cmin:  \n",
    "        h = 0\n",
    "      \n",
    "    # if cmax equal r then compute h \n",
    "    elif cmax == r:  \n",
    "        h = (60 * ((g - b) / diff) + 360) % 360\n",
    "  \n",
    "    # if cmax equal g then compute h \n",
    "    elif cmax == g: \n",
    "        h = (60 * ((b - r) / diff) + 120) % 360\n",
    "  \n",
    "    # if cmax equal b then compute h \n",
    "    elif cmax == b: \n",
    "        h = (60 * ((r - g) / diff) + 240) % 360\n",
    "  \n",
    "    # if cmax equal zero \n",
    "    if cmax == 0: \n",
    "        s = 0\n",
    "    else: \n",
    "        s = (diff / cmax) * 100\n",
    "  \n",
    "    # compute v \n",
    "    v = cmax * 100\n",
    "#     return h, s, v\n",
    "    return s\n",
    "\n",
    "def batch(iterable, n=1):\n",
    "    l = len(iterable)\n",
    "    for ndx in range(0, l, n):\n",
    "        yield iterable[ndx:min(ndx + n, l)]\n",
    "\n",
    "def word_to_color(word):\n",
    "    links = duckduckgo_search_urls(word)\n",
    "    colors = []\n",
    "    for link in links:\n",
    "        try:\n",
    "            response = requests.get(link)\n",
    "            im = Image.open(BytesIO(response.content))\n",
    "\n",
    "            im = im.convert('RGB')\n",
    "            im = im.resize((100, 100))\n",
    "            ar = np.array(im)\n",
    "            shape = ar.shape\n",
    "            ar = ar.reshape(np.product(shape[:2]), shape[2]).astype(float)\n",
    "            peak = median_centroid(ar,NUM_CLUSTERS=5)\n",
    "\n",
    "            colors.append(peak)\n",
    "        except:\n",
    "            pass\n",
    "#     md = median_centroid(np.array(list(colors)).astype(float),NUM_CLUSTERS=3)\n",
    "    md = median_centroid(np.array(colors),NUM_CLUSTERS=3)\n",
    "    color = binascii.hexlify(bytearray(int(c) for c in md)).decode('ascii')\n",
    "    return color\n",
    "\n",
    "def main():\n",
    "    top_words = top_n_list('en', 50000)        \n",
    "    dic = {}\n",
    "    words_skipped = []\n",
    "    counter = 0\n",
    "    for word in tqdm(top_words):\n",
    "        if counter%50==0:\n",
    "            with open('data_chinese.json', 'w') as fp:\n",
    "                json.dump(dic, fp)\n",
    "            with open('missing_words_chinese.json', 'w') as wp:\n",
    "                json.dump(words_skipped, wp)\n",
    "        try:\n",
    "            dic[word] = '#'+word_to_color(word)\n",
    "        except:\n",
    "            print(\"skip word '{}'\".format(word))\n",
    "            time.sleep(5)\n",
    "            words_skipped.append(word)\n",
    "        counter +=1\n"
   ]
  },
  {
   "cell_type": "code",
   "execution_count": 2,
   "id": "enabling-response",
   "metadata": {},
   "outputs": [],
   "source": [
    "top_words = top_n_list('en', 50000)"
   ]
  },
  {
   "cell_type": "code",
   "execution_count": 45,
   "id": "acting-biodiversity",
   "metadata": {},
   "outputs": [
    {
     "data": {
      "text/plain": [
       "'and'"
      ]
     },
     "execution_count": 45,
     "metadata": {},
     "output_type": "execute_result"
    }
   ],
   "source": [
    "top_words[3]"
   ]
  },
  {
   "cell_type": "code",
   "execution_count": 49,
   "id": "mature-cruise",
   "metadata": {},
   "outputs": [],
   "source": [
    "import matplotlib.pyplot as plt\n",
    "NUM_CLUSTERS = 7"
   ]
  },
  {
   "cell_type": "code",
   "execution_count": 53,
   "id": "covered-substance",
   "metadata": {},
   "outputs": [],
   "source": [
    "word = 'red'\n",
    "links = duckduckgo_search_urls(word,max_results=20)"
   ]
  },
  {
   "cell_type": "code",
   "execution_count": 54,
   "id": "statewide-holocaust",
   "metadata": {},
   "outputs": [
    {
     "data": {
      "image/png": "[encoded data removed]",
      "text/plain": [
       "<Figure size 432x288 with 1 Axes>"
      ]
     },
     "metadata": {
      "needs_background": "light"
     },
     "output_type": "display_data"
    }
   ],
   "source": [
    "plt.figure()\n",
    "for link in links:\n",
    "    response = requests.get(link)\n",
    "    im = Image.open(BytesIO(response.content))\n",
    "    im = im.convert('RGB')\n",
    "    im = im.resize((100, 100))\n",
    "    ar = np.array(im)\n",
    "    shape = ar.shape\n",
    "    ar = ar.reshape(np.product(shape[:2]), shape[2]).astype(float)\n",
    "\n",
    "    codes, dist = cluster.vq.kmeans(ar, NUM_CLUSTERS)\n",
    "    vecs, dist = cluster.vq.vq(ar, codes)         # assign codes\n",
    "    counts, bins = np.histogram(vecs, len(codes))    # count occurrences\n",
    "    sorted_counts = -np.sort(-counts)\n",
    "    plt.plot(sorted_counts)"
   ]
  },
  {
   "cell_type": "code",
   "execution_count": 194,
   "id": "human-subscriber",
   "metadata": {},
   "outputs": [
    {
     "data": {
      "text/plain": [
       "['https://tse3.mm.bing.net/th?id=OIP.hcg-GLtlWVwxOKWF_IZ16wHaEo&pid=Api',\n",
       " 'https://tse4.mm.bing.net/th?id=OIP.fjqXUxKeE6j5mbnWXuVzDwHaEo&pid=Api',\n",
       " 'https://tse4.mm.bing.net/th?id=OIP.HA-nMfLgGbM5pbGtsteSFAHaEK&pid=Api',\n",
       " 'https://tse3.mm.bing.net/th?id=OIP.rW2KgeCqUd9jU-MDjP0MEwHaE8&pid=Api',\n",
       " 'https://tse3.mm.bing.net/th?id=OIP.7-o6sA-DjlfB0efn8j3LAwHaE8&pid=Api',\n",
       " 'https://tse2.mm.bing.net/th?id=OIP.ruHIJWIZvnQBH3dfX085XgHaEK&pid=Api',\n",
       " 'https://tse1.mm.bing.net/th?id=OIP.JrOkyV_hSAdnPtvuiBX0HwHaEK&pid=Api',\n",
       " 'https://tse2.mm.bing.net/th?id=OIP.Hb22XwZN7aL8rfu4-dNskAHaEK&pid=Api',\n",
       " 'https://tse4.mm.bing.net/th?id=OIP.ulrBgR3owNzjFp0nwDnfBQHaO0&pid=Api',\n",
       " 'https://tse3.mm.bing.net/th?id=OIP.i0aJFZWWgPJMhH8lopcc7gHaEo&pid=Api',\n",
       " 'https://tse1.mm.bing.net/th?id=OIP.F3Ip5PVrSn2yXX_gcssrXwHaFj&pid=Api',\n",
       " 'https://tse4.mm.bing.net/th?id=OIP.Kcs3ZX5EQh-z5cSk9id2LQHaNK&pid=Api',\n",
       " 'https://tse1.mm.bing.net/th?id=OIP.Ta4TRtIOtfrz67zSQl5GNAHaEK&pid=Api',\n",
       " 'https://tse2.mm.bing.net/th?id=OIP.wJVAkrZ-UhXvWCaqikVF3QHaE8&pid=Api',\n",
       " 'https://tse2.mm.bing.net/th?id=OIP.FzFB0q4ws-zs8JIzupMBkwHaEK&pid=Api',\n",
       " 'https://tse2.mm.bing.net/th?id=OIP.MXM8YVPLJcjvuz9dS_oMQQHaKg&pid=Api',\n",
       " 'https://tse4.mm.bing.net/th?id=OIP.dS1k9CY4JlDwnBVzr5Ay3wHaEo&pid=Api',\n",
       " 'https://tse4.mm.bing.net/th?id=OIP.Dd5Je63kN6IR0xTila--vQHaEo&pid=Api',\n",
       " 'https://tse2.mm.bing.net/th?id=OIP.VwdGVe_LGYFE4iDitA5R5AHaNK&pid=Api',\n",
       " 'https://tse3.mm.bing.net/th?id=OIP.GB300GJh8ZGP59rCatLh5wHaEh&pid=Api']"
      ]
     },
     "execution_count": 194,
     "metadata": {},
     "output_type": "execute_result"
    }
   ],
   "source": [
    "duckduckgo_search_urls(word,max_results=20)"
   ]
  },
  {
   "cell_type": "code",
   "execution_count": 198,
   "id": "affected-uruguay",
   "metadata": {},
   "outputs": [
    {
     "data": {
      "text/plain": [
       "['https://tse1.mm.bing.net/th?id=OIP.zglZ6CI-F7y3uTpS7R1JQQHaEo&pid=Api',\n",
       " 'https://tse4.mm.bing.net/th?id=OIP.yXCk4Ll5ZOxKyc6h25uHGwHaEo&pid=Api',\n",
       " 'https://tse2.mm.bing.net/th?id=OIP.qXfUXYiDlTHqJFg4wFYb6QHaHa&pid=Api',\n",
       " 'https://tse2.mm.bing.net/th?id=OIP.79j4b925MuIhKK1txMI1jwHaFj&pid=Api',\n",
       " 'https://tse3.mm.bing.net/th?id=OIP.wyLUZ8ianCbhgVdqATTpHAHaHa&pid=Api',\n",
       " 'https://tse4.mm.bing.net/th?id=OIP.u_JW4HPacHHql8mIQyHzsgHaL2&pid=Api',\n",
       " 'https://tse2.mm.bing.net/th?id=OIP.aFIIkRoIKlgz2vM_oc-SKgHaJ4&pid=Api',\n",
       " 'https://tse4.mm.bing.net/th?id=OIP.opw8S1AZPHg9I6J0mvbhOAHaE6&pid=Api',\n",
       " 'https://tse1.mm.bing.net/th?id=OIP.qsvqoEPCkPuk878OpIrXhwHaEK&pid=Api',\n",
       " 'https://tse3.mm.bing.net/th?id=OIP.7IsO8ggQFxtT66zVwfDm8QHaFQ&pid=Api',\n",
       " 'https://tse2.mm.bing.net/th?id=OIP.-ZG41LXjxUoJb61DRKS4ZgHaE8&pid=Api',\n",
       " 'https://tse1.mm.bing.net/th?id=OIP.og1xssMlFoUQsnMtDJbeygHaE8&pid=Api',\n",
       " 'https://tse2.mm.bing.net/th?id=OIP.AQHcKlOvaCmiwTvXXFx7VAHaEK&pid=Api',\n",
       " 'https://tse2.mm.bing.net/th?id=OIP.e7mdHjXjzPTPjCNVlVUMLgHaHa&pid=Api',\n",
       " 'https://tse1.mm.bing.net/th?id=OIP.ylagsP0zps6UB91kuZvfEQHaLI&pid=Api',\n",
       " 'https://tse2.mm.bing.net/th?id=OIP.SpcQueIJ0K4LtRf-t8IWyAHaNL&pid=Api',\n",
       " 'https://tse3.mm.bing.net/th?id=OIP.X9aEN0g2CSWOwhDaf91mWQHaEo&pid=Api',\n",
       " 'https://tse4.mm.bing.net/th?id=OIP.rumsZrriqIB8HeedCKotlQHaEo&pid=Api',\n",
       " 'https://tse4.mm.bing.net/th?id=OIP.A8VrNtR0GKGKkRWJljPS1AHaE9&pid=Api',\n",
       " 'https://tse2.mm.bing.net/th?id=OIP.6I65cv0yathB7gdgTKTPtQHaLH&pid=Api']"
      ]
     },
     "execution_count": 198,
     "metadata": {},
     "output_type": "execute_result"
    }
   ],
   "source": [
    "links"
   ]
  },
  {
   "cell_type": "code",
   "execution_count": 243,
   "id": "traditional-desktop",
   "metadata": {},
   "outputs": [],
   "source": [
    "top_words = top_n_list('zh', 50000)  "
   ]
  },
  {
   "cell_type": "code",
   "execution_count": 233,
   "id": "abstract-department",
   "metadata": {},
   "outputs": [],
   "source": [
    "def word_to_color(word):\n",
    "    links = duckduckgo_search_urls(word)\n",
    "    colors = []\n",
    "    for link in links:\n",
    "        try:\n",
    "            response = requests.get(link)\n",
    "            im = Image.open(BytesIO(response.content))\n",
    "            im = im.convert('RGB')\n",
    "            im = im.resize((100, 100))\n",
    "            ar = np.array(im)\n",
    "            shape = ar.shape\n",
    "            ar = ar.reshape(np.product(shape[:2]), shape[2]).astype(float)\n",
    "            peak = median_centroid(ar,NUM_CLUSTERS=5)\n",
    "            colors.append(peak)\n",
    "        except:\n",
    "            pass\n",
    "    md = median_centroid(np.array(colors),NUM_CLUSTERS=3)\n",
    "    color = binascii.hexlify(bytearray(int(c) for c in md)).decode('ascii')\n",
    "    return color,np.trace(np.cov(np.stack(colors).T/255)**2)"
   ]
  },
  {
   "cell_type": "code",
   "execution_count": 234,
   "id": "narrative-stream",
   "metadata": {},
   "outputs": [],
   "source": [
    "a,b= word_to_color('apple')"
   ]
  },
  {
   "cell_type": "code",
   "execution_count": 238,
   "id": "occasional-digest",
   "metadata": {},
   "outputs": [
    {
     "data": {
      "text/html": [
       "<text style=color:#132c2c>█████</text>"
      ],
      "text/plain": [
       "<IPython.core.display.HTML object>"
      ]
     },
     "metadata": {},
     "output_type": "display_data"
    },
    {
     "data": {
      "text/plain": [
       "0.02626121006538208"
      ]
     },
     "execution_count": 238,
     "metadata": {},
     "output_type": "execute_result"
    }
   ],
   "source": [
    "print_color((('█████', '#'+a),))"
   ]
  },
  {
   "cell_type": "code",
   "execution_count": 237,
   "id": "cubic-drawing",
   "metadata": {},
   "outputs": [],
   "source": [
    "a,b= word_to_color('i')"
   ]
  },
  {
   "cell_type": "code",
   "execution_count": 199,
   "id": "buried-benefit",
   "metadata": {},
   "outputs": [
    {
     "data": {
      "text/html": [
       "<text style=color:#817c79>█████</text>"
      ],
      "text/plain": [
       "<IPython.core.display.HTML object>"
      ]
     },
     "metadata": {},
     "output_type": "display_data"
    },
    {
     "data": {
      "text/html": [
       "<text style=color:#606166>█████</text>"
      ],
      "text/plain": [
       "<IPython.core.display.HTML object>"
      ]
     },
     "metadata": {},
     "output_type": "display_data"
    },
    {
     "data": {
      "text/html": [
       "<text style=color:#848287>█████</text>"
      ],
      "text/plain": [
       "<IPython.core.display.HTML object>"
      ]
     },
     "metadata": {},
     "output_type": "display_data"
    },
    {
     "data": {
      "text/html": [
       "<text style=color:#818181>█████</text>"
      ],
      "text/plain": [
       "<IPython.core.display.HTML object>"
      ]
     },
     "metadata": {},
     "output_type": "display_data"
    },
    {
     "data": {
      "text/html": [
       "<text style=color:#39373c>█████</text>"
      ],
      "text/plain": [
       "<IPython.core.display.HTML object>"
      ]
     },
     "metadata": {},
     "output_type": "display_data"
    },
    {
     "data": {
      "text/html": [
       "<text style=color:#929191>█████</text>"
      ],
      "text/plain": [
       "<IPython.core.display.HTML object>"
      ]
     },
     "metadata": {},
     "output_type": "display_data"
    },
    {
     "data": {
      "text/html": [
       "<text style=color:#94938e>█████</text>"
      ],
      "text/plain": [
       "<IPython.core.display.HTML object>"
      ]
     },
     "metadata": {},
     "output_type": "display_data"
    },
    {
     "data": {
      "text/html": [
       "<text style=color:#89857f>█████</text>"
      ],
      "text/plain": [
       "<IPython.core.display.HTML object>"
      ]
     },
     "metadata": {},
     "output_type": "display_data"
    },
    {
     "data": {
      "text/html": [
       "<text style=color:#999896>█████</text>"
      ],
      "text/plain": [
       "<IPython.core.display.HTML object>"
      ]
     },
     "metadata": {},
     "output_type": "display_data"
    },
    {
     "data": {
      "text/html": [
       "<text style=color:#aba89a>█████</text>"
      ],
      "text/plain": [
       "<IPython.core.display.HTML object>"
      ]
     },
     "metadata": {},
     "output_type": "display_data"
    },
    {
     "data": {
      "text/html": [
       "<text style=color:#878683>█████</text>"
      ],
      "text/plain": [
       "<IPython.core.display.HTML object>"
      ]
     },
     "metadata": {},
     "output_type": "display_data"
    },
    {
     "data": {
      "text/html": [
       "<text style=color:#1f1f1f>█████</text>"
      ],
      "text/plain": [
       "<IPython.core.display.HTML object>"
      ]
     },
     "metadata": {},
     "output_type": "display_data"
    },
    {
     "data": {
      "text/html": [
       "<text style=color:#858588>█████</text>"
      ],
      "text/plain": [
       "<IPython.core.display.HTML object>"
      ]
     },
     "metadata": {},
     "output_type": "display_data"
    },
    {
     "data": {
      "text/html": [
       "<text style=color:#e4e5e6>█████</text>"
      ],
      "text/plain": [
       "<IPython.core.display.HTML object>"
      ]
     },
     "metadata": {},
     "output_type": "display_data"
    },
    {
     "data": {
      "text/html": [
       "<text style=color:#a6a4a4>█████</text>"
      ],
      "text/plain": [
       "<IPython.core.display.HTML object>"
      ]
     },
     "metadata": {},
     "output_type": "display_data"
    },
    {
     "data": {
      "text/html": [
       "<text style=color:#73716e>█████</text>"
      ],
      "text/plain": [
       "<IPython.core.display.HTML object>"
      ]
     },
     "metadata": {},
     "output_type": "display_data"
    },
    {
     "data": {
      "text/html": [
       "<text style=color:#65636c>█████</text>"
      ],
      "text/plain": [
       "<IPython.core.display.HTML object>"
      ]
     },
     "metadata": {},
     "output_type": "display_data"
    },
    {
     "data": {
      "text/html": [
       "<text style=color:#a7acb2>█████</text>"
      ],
      "text/plain": [
       "<IPython.core.display.HTML object>"
      ]
     },
     "metadata": {},
     "output_type": "display_data"
    },
    {
     "data": {
      "text/html": [
       "<text style=color:#030305>█████</text>"
      ],
      "text/plain": [
       "<IPython.core.display.HTML object>"
      ]
     },
     "metadata": {},
     "output_type": "display_data"
    },
    {
     "data": {
      "text/html": [
       "<text style=color:#aeb5bd>█████</text>"
      ],
      "text/plain": [
       "<IPython.core.display.HTML object>"
      ]
     },
     "metadata": {},
     "output_type": "display_data"
    },
    {
     "name": "stdout",
     "output_type": "stream",
     "text": [
      "0.005071131217370039\n"
     ]
    }
   ],
   "source": [
    "word = 'grey'\n",
    "links = duckduckgo_search_urls(word,max_results=20)\n",
    "# plt.figure()\n",
    "colors = []\n",
    "for link in links:\n",
    "    response = requests.get(link)\n",
    "    im = Image.open(BytesIO(response.content))\n",
    "    im = im.convert('RGB')\n",
    "    im = im.resize((100, 100))\n",
    "    ar = np.array(im)\n",
    "    shape = ar.shape\n",
    "    ar = ar.reshape(np.product(shape[:2]), shape[2]).astype(float)\n",
    "\n",
    "#     codes, dist = cluster.vq.kmeans(ar, NUM_CLUSTERS)\n",
    "#     vecs, dist = cluster.vq.vq(ar, codes)         # assign codes\n",
    "#     counts, bins = np.histogram(vecs, len(codes))    # count occurrences\n",
    "#     sorted_counts = -np.sort(-counts)\n",
    "#     color_code = codes[np.argmax(counts)]\n",
    "    color_code = median_centroid(ar,NUM_CLUSTERS=5)\n",
    "    colors.append(color_code/255)\n",
    "#     print(color_code)\n",
    "    color = binascii.hexlify(bytearray(int(c) for c in color_code)).decode('ascii')\n",
    "    print_color((('█████', '#'+color),))\n",
    "#     print(color)\n",
    "#     plt.figure()\n",
    "#     plt.plot(sorted_counts)\n",
    "#     plt.figure()\n",
    "#     plt.imshow(im)\n",
    "print(np.trace(np.cov(np.stack(colors).T)**2))"
   ]
  },
  {
   "cell_type": "code",
   "execution_count": 196,
   "id": "resistant-pioneer",
   "metadata": {},
   "outputs": [
    {
     "data": {
      "text/html": [
       "<text style=color:#a3927c>█████</text>"
      ],
      "text/plain": [
       "<IPython.core.display.HTML object>"
      ]
     },
     "metadata": {},
     "output_type": "display_data"
    },
    {
     "data": {
      "text/html": [
       "<text style=color:#636535>█████</text>"
      ],
      "text/plain": [
       "<IPython.core.display.HTML object>"
      ]
     },
     "metadata": {},
     "output_type": "display_data"
    },
    {
     "data": {
      "text/html": [
       "<text style=color:#65891e>█████</text>"
      ],
      "text/plain": [
       "<IPython.core.display.HTML object>"
      ]
     },
     "metadata": {},
     "output_type": "display_data"
    },
    {
     "data": {
      "text/html": [
       "<text style=color:#beb6af>█████</text>"
      ],
      "text/plain": [
       "<IPython.core.display.HTML object>"
      ]
     },
     "metadata": {},
     "output_type": "display_data"
    },
    {
     "data": {
      "text/html": [
       "<text style=color:#718640>█████</text>"
      ],
      "text/plain": [
       "<IPython.core.display.HTML object>"
      ]
     },
     "metadata": {},
     "output_type": "display_data"
    },
    {
     "data": {
      "text/html": [
       "<text style=color:#656556>█████</text>"
      ],
      "text/plain": [
       "<IPython.core.display.HTML object>"
      ]
     },
     "metadata": {},
     "output_type": "display_data"
    },
    {
     "data": {
      "text/html": [
       "<text style=color:#25261f>█████</text>"
      ],
      "text/plain": [
       "<IPython.core.display.HTML object>"
      ]
     },
     "metadata": {},
     "output_type": "display_data"
    },
    {
     "data": {
      "text/html": [
       "<text style=color:#8b8988>█████</text>"
      ],
      "text/plain": [
       "<IPython.core.display.HTML object>"
      ]
     },
     "metadata": {},
     "output_type": "display_data"
    },
    {
     "data": {
      "text/html": [
       "<text style=color:#b0bdc9>█████</text>"
      ],
      "text/plain": [
       "<IPython.core.display.HTML object>"
      ]
     },
     "metadata": {},
     "output_type": "display_data"
    },
    {
     "data": {
      "text/html": [
       "<text style=color:#babdd0>█████</text>"
      ],
      "text/plain": [
       "<IPython.core.display.HTML object>"
      ]
     },
     "metadata": {},
     "output_type": "display_data"
    },
    {
     "data": {
      "text/html": [
       "<text style=color:#b5c2db>█████</text>"
      ],
      "text/plain": [
       "<IPython.core.display.HTML object>"
      ]
     },
     "metadata": {},
     "output_type": "display_data"
    },
    {
     "data": {
      "text/html": [
       "<text style=color:#7dadd1>█████</text>"
      ],
      "text/plain": [
       "<IPython.core.display.HTML object>"
      ]
     },
     "metadata": {},
     "output_type": "display_data"
    },
    {
     "data": {
      "text/html": [
       "<text style=color:#b1afb1>█████</text>"
      ],
      "text/plain": [
       "<IPython.core.display.HTML object>"
      ]
     },
     "metadata": {},
     "output_type": "display_data"
    },
    {
     "data": {
      "text/html": [
       "<text style=color:#53585b>█████</text>"
      ],
      "text/plain": [
       "<IPython.core.display.HTML object>"
      ]
     },
     "metadata": {},
     "output_type": "display_data"
    },
    {
     "data": {
      "text/html": [
       "<text style=color:#7f6448>█████</text>"
      ],
      "text/plain": [
       "<IPython.core.display.HTML object>"
      ]
     },
     "metadata": {},
     "output_type": "display_data"
    },
    {
     "data": {
      "text/html": [
       "<text style=color:#23361d>█████</text>"
      ],
      "text/plain": [
       "<IPython.core.display.HTML object>"
      ]
     },
     "metadata": {},
     "output_type": "display_data"
    },
    {
     "data": {
      "text/html": [
       "<text style=color:#b98b77>█████</text>"
      ],
      "text/plain": [
       "<IPython.core.display.HTML object>"
      ]
     },
     "metadata": {},
     "output_type": "display_data"
    },
    {
     "data": {
      "text/html": [
       "<text style=color:#323520>█████</text>"
      ],
      "text/plain": [
       "<IPython.core.display.HTML object>"
      ]
     },
     "metadata": {},
     "output_type": "display_data"
    },
    {
     "data": {
      "text/html": [
       "<text style=color:#928f8c>█████</text>"
      ],
      "text/plain": [
       "<IPython.core.display.HTML object>"
      ]
     },
     "metadata": {},
     "output_type": "display_data"
    },
    {
     "data": {
      "text/html": [
       "<text style=color:#5b5557>█████</text>"
      ],
      "text/plain": [
       "<IPython.core.display.HTML object>"
      ]
     },
     "metadata": {},
     "output_type": "display_data"
    },
    {
     "name": "stdout",
     "output_type": "stream",
     "text": [
      "0.020345891289790228\n"
     ]
    }
   ],
   "source": [
    "word = 'the'\n",
    "links = duckduckgo_search_urls(word,max_results=20)\n",
    "# plt.figure()\n",
    "colors = []\n",
    "for link in links:\n",
    "    response = requests.get(link)\n",
    "    im = Image.open(BytesIO(response.content))\n",
    "    im = im.convert('RGB')\n",
    "    im = im.resize((100, 100))\n",
    "    ar = np.array(im)\n",
    "    shape = ar.shape\n",
    "    ar = ar.reshape(np.product(shape[:2]), shape[2]).astype(float)\n",
    "\n",
    "#     codes, dist = cluster.vq.kmeans(ar, NUM_CLUSTERS)\n",
    "#     vecs, dist = cluster.vq.vq(ar, codes)         # assign codes\n",
    "#     counts, bins = np.histogram(vecs, len(codes))    # count occurrences\n",
    "#     sorted_counts = -np.sort(-counts)\n",
    "#     color_code = codes[np.argmax(counts)]\n",
    "    color_code = median_centroid(ar,NUM_CLUSTERS=5)\n",
    "    colors.append(color_code/255)\n",
    "#     print(color_code)\n",
    "    color = binascii.hexlify(bytearray(int(c) for c in color_code)).decode('ascii')\n",
    "    print_color((('█████', '#'+color),))\n",
    "#     print(color)\n",
    "#     plt.figure()\n",
    "#     plt.plot(sorted_counts)\n",
    "#     plt.figure()\n",
    "#     plt.imshow(im)\n",
    "print(np.trace(np.cov(np.stack(colors).T))**2)"
   ]
  },
  {
   "cell_type": "code",
   "execution_count": 144,
   "id": "adjustable-moldova",
   "metadata": {},
   "outputs": [
    {
     "name": "stdout",
     "output_type": "stream",
     "text": [
      "[[ 0.05061145 -0.0028767   0.00272226]\n",
      " [-0.0028767   0.01588727  0.01926341]\n",
      " [ 0.00272226  0.01926341  0.03013343]]\n"
     ]
    }
   ],
   "source": [
    "# print(np.cov(np.stack(colors).T))"
   ]
  },
  {
   "cell_type": "code",
   "execution_count": 162,
   "id": "african-contributor",
   "metadata": {},
   "outputs": [
    {
     "data": {
      "text/html": [
       "<text style=color:#9387a1>█████</text>"
      ],
      "text/plain": [
       "<IPython.core.display.HTML object>"
      ]
     },
     "metadata": {},
     "output_type": "display_data"
    },
    {
     "data": {
      "text/html": [
       "<text style=color:#b5ada5>█████</text>"
      ],
      "text/plain": [
       "<IPython.core.display.HTML object>"
      ]
     },
     "metadata": {},
     "output_type": "display_data"
    },
    {
     "data": {
      "text/html": [
       "<text style=color:#1c1a1c>█████</text>"
      ],
      "text/plain": [
       "<IPython.core.display.HTML object>"
      ]
     },
     "metadata": {},
     "output_type": "display_data"
    },
    {
     "data": {
      "text/html": [
       "<text style=color:#715648>█████</text>"
      ],
      "text/plain": [
       "<IPython.core.display.HTML object>"
      ]
     },
     "metadata": {},
     "output_type": "display_data"
    },
    {
     "data": {
      "text/html": [
       "<text style=color:#0c111b>█████</text>"
      ],
      "text/plain": [
       "<IPython.core.display.HTML object>"
      ]
     },
     "metadata": {},
     "output_type": "display_data"
    },
    {
     "data": {
      "text/html": [
       "<text style=color:#181517>█████</text>"
      ],
      "text/plain": [
       "<IPython.core.display.HTML object>"
      ]
     },
     "metadata": {},
     "output_type": "display_data"
    },
    {
     "data": {
      "text/html": [
       "<text style=color:#7c4428>█████</text>"
      ],
      "text/plain": [
       "<IPython.core.display.HTML object>"
      ]
     },
     "metadata": {},
     "output_type": "display_data"
    },
    {
     "data": {
      "text/html": [
       "<text style=color:#111c3c>█████</text>"
      ],
      "text/plain": [
       "<IPython.core.display.HTML object>"
      ]
     },
     "metadata": {},
     "output_type": "display_data"
    },
    {
     "data": {
      "text/html": [
       "<text style=color:#2d1f12>█████</text>"
      ],
      "text/plain": [
       "<IPython.core.display.HTML object>"
      ]
     },
     "metadata": {},
     "output_type": "display_data"
    },
    {
     "data": {
      "text/html": [
       "<text style=color:#202319>█████</text>"
      ],
      "text/plain": [
       "<IPython.core.display.HTML object>"
      ]
     },
     "metadata": {},
     "output_type": "display_data"
    },
    {
     "data": {
      "text/html": [
       "<text style=color:#63a2cf>█████</text>"
      ],
      "text/plain": [
       "<IPython.core.display.HTML object>"
      ]
     },
     "metadata": {},
     "output_type": "display_data"
    },
    {
     "data": {
      "text/html": [
       "<text style=color:#464249>█████</text>"
      ],
      "text/plain": [
       "<IPython.core.display.HTML object>"
      ]
     },
     "metadata": {},
     "output_type": "display_data"
    },
    {
     "data": {
      "text/html": [
       "<text style=color:#68655d>█████</text>"
      ],
      "text/plain": [
       "<IPython.core.display.HTML object>"
      ]
     },
     "metadata": {},
     "output_type": "display_data"
    },
    {
     "data": {
      "text/html": [
       "<text style=color:#c4947a>█████</text>"
      ],
      "text/plain": [
       "<IPython.core.display.HTML object>"
      ]
     },
     "metadata": {},
     "output_type": "display_data"
    },
    {
     "data": {
      "text/html": [
       "<text style=color:#50316e>█████</text>"
      ],
      "text/plain": [
       "<IPython.core.display.HTML object>"
      ]
     },
     "metadata": {},
     "output_type": "display_data"
    },
    {
     "data": {
      "text/html": [
       "<text style=color:#010102>█████</text>"
      ],
      "text/plain": [
       "<IPython.core.display.HTML object>"
      ]
     },
     "metadata": {},
     "output_type": "display_data"
    },
    {
     "data": {
      "text/html": [
       "<text style=color:#2890ab>█████</text>"
      ],
      "text/plain": [
       "<IPython.core.display.HTML object>"
      ]
     },
     "metadata": {},
     "output_type": "display_data"
    },
    {
     "data": {
      "text/html": [
       "<text style=color:#4f1707>█████</text>"
      ],
      "text/plain": [
       "<IPython.core.display.HTML object>"
      ]
     },
     "metadata": {},
     "output_type": "display_data"
    },
    {
     "data": {
      "text/html": [
       "<text style=color:#443c3d>█████</text>"
      ],
      "text/plain": [
       "<IPython.core.display.HTML object>"
      ]
     },
     "metadata": {},
     "output_type": "display_data"
    },
    {
     "data": {
      "text/html": [
       "<text style=color:#681209>█████</text>"
      ],
      "text/plain": [
       "<IPython.core.display.HTML object>"
      ]
     },
     "metadata": {},
     "output_type": "display_data"
    },
    {
     "name": "stdout",
     "output_type": "stream",
     "text": [
      "0.15493363700543952\n"
     ]
    }
   ],
   "source": [
    "# plt.figure()\n",
    "word = 'the'\n",
    "links = duckduckgo_search_urls(word,max_results=20)\n",
    "colors = []\n",
    "for link in links:\n",
    "    response = requests.get(link)\n",
    "    im = Image.open(BytesIO(response.content))\n",
    "    im = im.convert('RGB')\n",
    "    im = im.resize((100, 100))\n",
    "    ar = np.array(im)\n",
    "    shape = ar.shape\n",
    "    ar = ar.reshape(np.product(shape[:2]), shape[2]).astype(float)\n",
    "\n",
    "#     codes, dist = cluster.vq.kmeans(ar, NUM_CLUSTERS)\n",
    "#     vecs, dist = cluster.vq.vq(ar, codes)         # assign codes\n",
    "#     counts, bins = np.histogram(vecs, len(codes))    # count occurrences\n",
    "#     sorted_counts = -np.sort(-counts)\n",
    "#     color_code = codes[np.argmax(counts)]\n",
    "    color_code = median_centroid(ar,NUM_CLUSTERS=5)\n",
    "    colors.append(color_code/255)\n",
    "#     print(color_code)\n",
    "    color = binascii.hexlify(bytearray(int(c) for c in color_code)).decode('ascii')\n",
    "    print_color((('█████', '#'+color),))\n",
    "#     print(color)\n",
    "#     plt.figure()\n",
    "#     plt.plot(sorted_counts)\n",
    "#     plt.figure()\n",
    "#     plt.imshow(im)\n",
    "print(np.trace(np.cov(np.stack(colors).T)))\n",
    "# print(np.cov(np.stack(colors).T)[0][0])"
   ]
  },
  {
   "cell_type": "code",
   "execution_count": 146,
   "id": "limiting-intention",
   "metadata": {},
   "outputs": [
    {
     "name": "stdout",
     "output_type": "stream",
     "text": [
      "[[0.05840811 0.03819615 0.01737669]\n",
      " [0.03819615 0.04218789 0.03765835]\n",
      " [0.01737669 0.03765835 0.05269846]]\n"
     ]
    }
   ],
   "source": [
    "print(np.cov(np.stack(colors).T))"
   ]
  },
  {
   "cell_type": "code",
   "execution_count": 138,
   "id": "social-jamaica",
   "metadata": {},
   "outputs": [
    {
     "ename": "SyntaxError",
     "evalue": "unexpected EOF while parsing (<ipython-input-138-8db73f3ed794>, line 1)",
     "output_type": "error",
     "traceback": [
      "\u001b[0;36m  File \u001b[0;32m\"<ipython-input-138-8db73f3ed794>\"\u001b[0;36m, line \u001b[0;32m1\u001b[0m\n\u001b[0;31m    print(np.cov(np.stack(colors).T)\u001b[0m\n\u001b[0m                                    ^\u001b[0m\n\u001b[0;31mSyntaxError\u001b[0m\u001b[0;31m:\u001b[0m unexpected EOF while parsing\n"
     ]
    }
   ],
   "source": [
    "print(np.cov(np.stack(colors).T)"
   ]
  },
  {
   "cell_type": "code",
   "execution_count": null,
   "id": "danish-judges",
   "metadata": {},
   "outputs": [],
   "source": []
  },
  {
   "cell_type": "code",
   "execution_count": null,
   "id": "formed-interpretation",
   "metadata": {},
   "outputs": [],
   "source": []
  },
  {
   "cell_type": "code",
   "execution_count": 79,
   "id": "durable-champagne",
   "metadata": {},
   "outputs": [],
   "source": [
    "from termcolor import colored"
   ]
  },
  {
   "cell_type": "code",
   "execution_count": 89,
   "id": "grave-charles",
   "metadata": {},
   "outputs": [
    {
     "data": {
      "text/html": [
       "<text style=color:#f6685e>█████</text>"
      ],
      "text/plain": [
       "<IPython.core.display.HTML object>"
      ]
     },
     "metadata": {},
     "output_type": "display_data"
    }
   ],
   "source": [
    "from IPython.display import HTML as html_print\n",
    "from IPython.display import display\n",
    "\n",
    "def cstr(s, color='black'):\n",
    "    return \"<text style=color:{}>{}</text>\".format(color, s)\n",
    "\n",
    "def print_color(t):\n",
    "    display(html_print(' '.join([cstr(ti, color=ci) for ti,ci in t])))\n",
    "\n",
    "# print_color((('hello my name is', 'black'),('jhjfd','red')))\n",
    "print_color((('█████', '#f6685e'),))"
   ]
  },
  {
   "cell_type": "code",
   "execution_count": 50,
   "id": "grand-bidder",
   "metadata": {},
   "outputs": [],
   "source": [
    "codes, dist = cluster.vq.kmeans(ar, NUM_CLUSTERS)\n",
    "vecs, dist = cluster.vq.vq(ar, codes)         # assign codes\n",
    "counts, bins = np.histogram(vecs, len(codes))    # count occurrences\n",
    "sorted_counts = -np.sort(-counts)\n",
    "plt.plot(sorted_counts)"
   ]
  },
  {
   "cell_type": "code",
   "execution_count": 51,
   "id": "dramatic-prerequisite",
   "metadata": {},
   "outputs": [
    {
     "data": {
      "text/plain": [
       "[<matplotlib.lines.Line2D at 0x7f81afecc550>]"
      ]
     },
     "execution_count": 51,
     "metadata": {},
     "output_type": "execute_result"
    },
    {
     "data": {
      "image/png": "[encoded data removed]",
      "text/plain": [
       "<Figure size 432x288 with 1 Axes>"
      ]
     },
     "metadata": {
      "needs_background": "light"
     },
     "output_type": "display_data"
    }
   ],
   "source": [
    "plt.plot(sorted_counts)"
   ]
  },
  {
   "cell_type": "code",
   "execution_count": null,
   "id": "technical-classification",
   "metadata": {},
   "outputs": [],
   "source": []
  },
  {
   "cell_type": "code",
   "execution_count": null,
   "id": "interim-maker",
   "metadata": {},
   "outputs": [],
   "source": [
    "links = duckduckgo_search_urls(word)\n",
    "colors = []\n",
    "for link in links:\n",
    "    try:\n",
    "        response = requests.get(link)\n",
    "        im = Image.open(BytesIO(response.content))\n",
    "#         color_thief = ColorThief(BytesIO(response.content))\n",
    "#         peak = color_thief.get_color(quality=1)\n",
    "        im = im.convert('RGB')\n",
    "        im = im.resize((100, 100))\n",
    "        ar = np.array(im)\n",
    "        shape = ar.shape\n",
    "        # if shape[-1]!=3:\n",
    "        #     continue\n",
    "        ar = ar.reshape(np.product(shape[:2]), shape[2]).astype(float)\n",
    "        peak = median_centroid(ar,NUM_CLUSTERS=5)\n",
    "\n",
    "        colors.append(peak)\n",
    "    except:\n",
    "        pass\n",
    "#     md = median_centroid(np.array(list(colors)).astype(float),NUM_CLUSTERS=3)\n",
    "md = median_centroid(np.array(colors),NUM_CLUSTERS=3)\n",
    "color = binascii.hexlify(bytearray(int(c) for c in md)).decode('ascii')"
   ]
  },
  {
   "cell_type": "code",
   "execution_count": null,
   "id": "diagnostic-flood",
   "metadata": {},
   "outputs": [],
   "source": []
  },
  {
   "cell_type": "code",
   "execution_count": null,
   "id": "informed-straight",
   "metadata": {},
   "outputs": [],
   "source": []
  },
  {
   "cell_type": "code",
   "execution_count": 54,
   "id": "assured-providence",
   "metadata": {},
   "outputs": [],
   "source": [
    "import json\n",
    "import numpy as np\n",
    "import matplotlib.pyplot as plt\n",
    "\n",
    "def js_r(filename: str):\n",
    "    with open(filename) as f_in:\n",
    "        return json.load(f_in)\n",
    "# cov_env = js_r('data_cov_en.json')"
   ]
  },
  {
   "cell_type": "code",
   "execution_count": 55,
   "id": "institutional-freight",
   "metadata": {},
   "outputs": [],
   "source": [
    "cov_env = js_r('data_cov_en.json')\n",
    "missing_word = js_r('missing_words_en.json')\n",
    "all_word_to_color = js_r('data_words_en.json')"
   ]
  },
  {
   "cell_type": "code",
   "execution_count": 56,
   "id": "threaded-outdoors",
   "metadata": {},
   "outputs": [],
   "source": [
    "for w in missing_word:\n",
    "    cov_env[w] = 0 \n",
    "    all_word_to_color[w] = \"#000000\""
   ]
  },
  {
   "cell_type": "code",
   "execution_count": null,
   "id": "athletic-paint",
   "metadata": {},
   "outputs": [],
   "source": []
  },
  {
   "cell_type": "code",
   "execution_count": 57,
   "id": "adaptive-alfred",
   "metadata": {},
   "outputs": [],
   "source": [
    "cov_env_value = np.array(list(cov_env.values()))\n",
    "keys = list(cov_env.keys())"
   ]
  },
  {
   "cell_type": "code",
   "execution_count": 76,
   "id": "mediterranean-cookie",
   "metadata": {},
   "outputs": [
    {
     "data": {
      "text/plain": [
       "<matplotlib.lines.Line2D at 0x7ff43d164f10>"
      ]
     },
     "execution_count": 76,
     "metadata": {},
     "output_type": "execute_result"
    },
    {
     "data": {
      "image/png": "[encoded data removed]",
      "text/plain": [
       "<Figure size 432x288 with 1 Axes>"
      ]
     },
     "metadata": {
      "needs_background": "light"
     },
     "output_type": "display_data"
    }
   ],
   "source": [
    "plt.hist(cov_env_value,bins=20)\n",
    "# line = cov_env_value.mean()\n",
    "threshhold = 0.018\n",
    "plt.axvline(threshhold, color='k', linestyle='dashed', linewidth=1)"
   ]
  },
  {
   "cell_type": "code",
   "execution_count": 106,
   "id": "wireless-story",
   "metadata": {},
   "outputs": [
    {
     "data": {
      "text/plain": [
       "array([0.        , 0.00357143, 0.00714286, 0.01071429, 0.01428571,\n",
       "       0.01785714, 0.02142857, 0.025     , 0.02857143, 0.03214286,\n",
       "       0.03571429, 0.03928571, 0.04285714, 0.04642857, 0.05      ,\n",
       "       0.05357143, 0.05714286, 0.06071429, 0.06428571, 0.06785714,\n",
       "       0.07142857, 0.075     , 0.07857143, 0.08214286, 0.08571429,\n",
       "       0.08928571, 0.09285714, 0.09642857, 0.1       , 0.10357143,\n",
       "       0.10714286, 0.11071429, 0.11428571, 0.11785714, 0.12142857,\n",
       "       0.125     , 0.12857143, 0.13214286, 0.13571429, 0.13928571,\n",
       "       0.14285714, 0.14642857, 0.15      , 0.15357143, 0.15714286,\n",
       "       0.16071429, 0.16428571, 0.16785714, 0.17142857, 0.175     ])"
      ]
     },
     "execution_count": 106,
     "metadata": {},
     "output_type": "execute_result"
    }
   ],
   "source": [
    "np.linspace(0,0.175)"
   ]
  },
  {
   "cell_type": "code",
   "execution_count": 145,
   "id": "younger-estimate",
   "metadata": {},
   "outputs": [
    {
     "data": {
      "text/plain": [
       "49950"
      ]
     },
     "execution_count": 145,
     "metadata": {},
     "output_type": "execute_result"
    }
   ],
   "source": [
    "len(cov_env_value)"
   ]
  },
  {
   "cell_type": "code",
   "execution_count": 153,
   "id": "spanish-pizza",
   "metadata": {},
   "outputs": [],
   "source": [
    "cov_env_value_sorted = np.sort(cov_env_value)"
   ]
  },
  {
   "cell_type": "code",
   "execution_count": 154,
   "id": "tight-tractor",
   "metadata": {},
   "outputs": [],
   "source": [
    "# 100\n",
    "step_size = 500"
   ]
  },
  {
   "cell_type": "code",
   "execution_count": 155,
   "id": "different-xerox",
   "metadata": {},
   "outputs": [],
   "source": [
    "threshold_range = []\n",
    "i=0\n",
    "while i<len(cov_env_value_sorted):\n",
    "    threshold_range.append(cov_env_value_sorted[i])\n",
    "    i+=step_size"
   ]
  },
  {
   "cell_type": "code",
   "execution_count": null,
   "id": "italic-sterling",
   "metadata": {},
   "outputs": [],
   "source": [
    "threshold_range"
   ]
  },
  {
   "cell_type": "code",
   "execution_count": 157,
   "id": "waiting-colleague",
   "metadata": {},
   "outputs": [],
   "source": [
    "with open('thresholds.json', 'w') as fp:\n",
    "    json.dump(threshold_range, fp)"
   ]
  },
  {
   "cell_type": "code",
   "execution_count": null,
   "id": "responsible-viking",
   "metadata": {},
   "outputs": [],
   "source": []
  },
  {
   "cell_type": "code",
   "execution_count": 158,
   "id": "pretty-wonder",
   "metadata": {},
   "outputs": [
    {
     "data": {
      "text/plain": [
       "100"
      ]
     },
     "execution_count": 158,
     "metadata": {},
     "output_type": "execute_result"
    }
   ],
   "source": [
    "len(threshold_range)"
   ]
  },
  {
   "cell_type": "code",
   "execution_count": 77,
   "id": "narrative-edgar",
   "metadata": {},
   "outputs": [],
   "source": [
    "# threshhold = np.mean(cov_env_value)\n",
    "mask = cov_env_value>threshhold"
   ]
  },
  {
   "cell_type": "code",
   "execution_count": 91,
   "id": "involved-recycling",
   "metadata": {},
   "outputs": [],
   "source": [
    "with open('data.json', 'w') as fp:\n",
    "    json.dump(all_word_to_color, fp)"
   ]
  },
  {
   "cell_type": "code",
   "execution_count": 97,
   "id": "published-highlight",
   "metadata": {},
   "outputs": [],
   "source": [
    "for w in cov_env.keys():\n",
    "    cov_env[w] = round(cov_env[w],5)"
   ]
  },
  {
   "cell_type": "code",
   "execution_count": 98,
   "id": "subjective-preservation",
   "metadata": {},
   "outputs": [],
   "source": [
    "with open('data_cov.json', 'w') as fp:\n",
    "    json.dump(cov_env, fp)"
   ]
  },
  {
   "cell_type": "code",
   "execution_count": null,
   "id": "realistic-saudi",
   "metadata": {},
   "outputs": [],
   "source": []
  },
  {
   "cell_type": "code",
   "execution_count": null,
   "id": "welcome-albania",
   "metadata": {},
   "outputs": [],
   "source": []
  },
  {
   "cell_type": "code",
   "execution_count": 80,
   "id": "possible-continuity",
   "metadata": {},
   "outputs": [],
   "source": [
    "all_word_mask = {}\n",
    "for i,key in enumerate(keys):\n",
    "    all_word_mask[key] = mask[i]"
   ]
  },
  {
   "cell_type": "code",
   "execution_count": 81,
   "id": "diverse-snake",
   "metadata": {},
   "outputs": [
    {
     "data": {
      "text/plain": [
       "0.02244570463434601"
      ]
     },
     "execution_count": 81,
     "metadata": {},
     "output_type": "execute_result"
    }
   ],
   "source": [
    "cov_env['i']"
   ]
  },
  {
   "cell_type": "code",
   "execution_count": null,
   "id": "flexible-latin",
   "metadata": {},
   "outputs": [],
   "source": [
    "all_word_mask"
   ]
  },
  {
   "cell_type": "code",
   "execution_count": null,
   "id": "operational-boring",
   "metadata": {},
   "outputs": [],
   "source": []
  }
 ],
 "metadata": {
  "kernelspec": {
   "display_name": "Python 3",
   "language": "python",
   "name": "python3"
  },
  "language_info": {
   "codemirror_mode": {
    "name": "ipython",
    "version": 3
   },
   "file_extension": ".py",
   "mimetype": "text/x-python",
   "name": "python",
   "nbconvert_exporter": "python",
   "pygments_lexer": "ipython3",
   "version": "3.8.8"
  }
 },
 "nbformat": 4,
 "nbformat_minor": 5
}
